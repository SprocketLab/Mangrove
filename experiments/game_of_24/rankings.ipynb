{
 "cells": [
  {
   "cell_type": "code",
   "execution_count": 2,
   "metadata": {},
   "outputs": [],
   "source": [
    "import sys \n",
    "sys.path.append('../')\n",
    "from core.ranking_utils import * \n",
    "import itertools \n",
    "from core.pse import pseudo_embedding\n",
    "import scipy \n",
    "from core.tensor_label_model_pse import TensorLabelModelPSE\n",
    "import scipy\n",
    "\n",
    "from core.exp_label_model import * \n",
    "from core.pse import pseudo_embedding \n",
    "import matplotlib.pyplot as plt "
   ]
  },
  {
   "cell_type": "code",
   "execution_count": 4,
   "metadata": {},
   "outputs": [],
   "source": [
    "def get_errors(D):\n",
    "  D = D**2\n",
    "  n = D.shape[0]\n",
    "  err = np.zeros(n-1)\n",
    "  for dim in range(1,n):\n",
    "      X, tk = pseudo_embedding(D, dim=dim)\n",
    "      \n",
    "      rec = np.zeros((n, n))\n",
    "      for i in range(n):\n",
    "          for j in range(n):\n",
    "              rec[i,j] = np.abs(np.linalg.norm(X[i,:tk]-X[j,:tk])**2 - np.linalg.norm(X[i,tk:]-X[j,tk:])**2)\n",
    "              if i != j:\n",
    "                  err[dim-1] += np.abs((np.sqrt(D[i,j])-np.sqrt(rec[i,j])))/np.sqrt(D[i,j])\n",
    "                  #err += np.abs((np.sqrt(D[i,j])-np.sqrt(rec[i,j])))/np.sqrt(D[i,j])\n",
    "      err[dim-1]/= (n*(n-1))\n",
    "      #err/= (n*(n-1))\n",
    "  return err"
   ]
  },
  {
   "cell_type": "code",
   "execution_count": 7,
   "metadata": {},
   "outputs": [],
   "source": [
    "lst_unq_rankings = [ Ranking(list(x)) for x in itertools.permutations(list(range(4)))]\n",
    "r_utils =  RankingUtils(4)\n",
    "D = r_utils.get_pair_wise_dists(lst_unq_rankings)"
   ]
  },
  {
   "cell_type": "code",
   "execution_count": 8,
   "metadata": {},
   "outputs": [
    {
     "data": {
      "text/plain": [
       "[<matplotlib.lines.Line2D at 0x7f82cd745c90>]"
      ]
     },
     "execution_count": 8,
     "metadata": {},
     "output_type": "execute_result"
    },
    {
     "data": {
      "image/png": "[encoded data removed]",
      "text/plain": [
       "<Figure size 432x288 with 1 Axes>"
      ]
     },
     "metadata": {
      "needs_background": "light"
     },
     "output_type": "display_data"
    }
   ],
   "source": [
    "\n",
    "errs_square = get_errors(D)\n",
    "mds_errs_square = errs_square[:6].tolist() + [errs_square[5]]*(len(errs_square)-6)\n",
    "plt.plot(list(range(1,len(mds_errs_square)+1)), mds_errs_square, marker='s',markersize=10,label='MDS')\n",
    "errs_square2 = errs_square.tolist() #+ [errs_square[2]]\n",
    "plt.plot(list(range(1,len(errs_square2)+1)), errs_square2,marker='*',markersize=15,color='red',label='PSE')\n"
   ]
  },
  {
   "cell_type": "code",
   "execution_count": 5,
   "metadata": {},
   "outputs": [],
   "source": [
    "from core.exp_label_model import * \n",
    "from core.pse import pseudo_embedding \n",
    "def dist_fun_0_1(y_1,y_2):\n",
    "    return int(y_1 != y_2)\n",
    "from core.tensor_label_model_euclidean import TensorLabelModelEuclidean\n",
    "\n",
    "def run_tensor_lm_1_hot(L,Y,k,abstain_allowed=False):\n",
    "    \n",
    "    Y_emb_unique = np.eye(k)[[np.arange(k)]].squeeze()\n",
    "\n",
    "    print(Y_emb_unique.shape)\n",
    "    L_emb =[[Y_emb_unique[l,:] for l in L_i] for L_i in L]\n",
    "    L_emb = np.array(L_emb)\n",
    "    L_emb.shape \n",
    "    tlm = TensorLabelModelEuclidean(k,Y_emb_unique)\n",
    "    tlm.k = k\n",
    "    \n",
    "    tlm.mu_recovery(L_emb,Y_emb_unique,0,1,2)\n",
    "    \n",
    "    Y_hat = tlm.predict(L_emb,abstain_allowed)\n",
    "    accuracy = np.sum(Y_hat == Y) / Y.shape[0]\n",
    "    print('Label model accuracy of tensor lm 1-hot: {}%'.format(int(100 * accuracy)))\n",
    "    return accuracy\n",
    "\n",
    "#run_tensor_lm_1_hot(L,y_centers,k)\n",
    "\n",
    "def run(n_samples,theta):\n",
    "\n",
    "    lst_unq_rankings = [ Ranking(list(x)) for x in itertools.permutations(list(range(4)))]\n",
    "    r_utils =  RankingUtils(4)\n",
    "    D_rankings = r_utils.get_pair_wise_dists(lst_unq_rankings)\n",
    "    D = D_rankings*D_rankings\n",
    "    \n",
    "    k = len(D)\n",
    "    space= np.arange(0,k,1)\n",
    "\n",
    "    exp_model = ExponentialLabelModel()\n",
    "    P = exp_model.get_probability_table_true(space, theta, D)\n",
    "\n",
    "    Y = np.array([np.random.randint(k) for i in range(n_samples)])\n",
    "\n",
    "    L = exp_model.draw_samples(Y)\n",
    "    L = np.array(L)\n",
    "    L = L.squeeze()\n",
    "\n",
    "    acc_mv = run_mv(L,Y)\n",
    "    acc_1_hot = run_tensor_lm_1_hot(L,Y,k)\n",
    "    acc_pse =  run_tensor_lm_pse(L,Y,D,k,dim=16)\n",
    "    return acc_mv,acc_pse,acc_1_hot\n",
    "\n",
    "\n",
    "def run_mv(L,Y):\n",
    "    mv_out  = scipy.stats.mode(L, axis=0)[0].squeeze()\n",
    "    accuracy = np.sum(mv_out == Y) / Y.shape[0]\n",
    "    print('Majority vote accuracy: {}%'.format(int(100 * accuracy)))\n",
    "    return accuracy \n",
    "\n",
    "def run_tensor_lm_pse(L,Y,D,k,dim=3):\n",
    "\n",
    "    Y_emb_unique, tk = pseudo_embedding(D, dim)\n",
    "\n",
    "    L_emb =[[Y_emb_unique[l,:] for l in L_i] for L_i in L]\n",
    "    L_emb = np.array(L_emb)\n",
    "    L_emb.shape\n",
    "\n",
    "    tlm = TensorLabelModelPSE(k,Y_emb_unique,tk)\n",
    "    tlm.k = k\n",
    "    tlm.mu_recovery(L_emb,0,1,2)\n",
    "\n",
    "    Y_hat = tlm.predict(L_emb)\n",
    "\n",
    "    accuracy = np.sum(Y_hat == Y) / Y.shape[0]\n",
    "\n",
    "    print('Label model accuracy of tensor lm pse: {}%'.format(int(100 * accuracy)))\n",
    "    return accuracy \n"
   ]
  },
  {
   "cell_type": "code",
   "execution_count": 6,
   "metadata": {},
   "outputs": [
    {
     "name": "stderr",
     "output_type": "stream",
     "text": [
      "/tmp/ipykernel_178724/2177793434.py:53: FutureWarning: Unlike other reduction functions (e.g. `skew`, `kurtosis`), the default behavior of `mode` typically preserves the axis it acts along. In SciPy 1.11.0, this behavior will change: the default value of `keepdims` will become False, the `axis` over which the statistic is taken will be eliminated, and the value None will no longer be accepted. Set `keepdims` to True or False to avoid this warning.\n",
      "  mv_out  = scipy.stats.mode(L, axis=0)[0].squeeze()\n"
     ]
    },
    {
     "name": "stdout",
     "output_type": "stream",
     "text": [
      "Majority vote accuracy: 63%\n",
      "(24, 24)\n",
      "(24, 2000) (24, 2000) (24, 2000)\n",
      "(3, 24, 24) (24, 24)\n",
      "Label model accuracy of tensor lm 1-hot: 59%\n",
      "pos shape (24, 6)\n",
      "neg shape (24, 10)\n",
      "(6, 2000) (6, 2000) (6, 2000)\n",
      "(3, 2000, 10)\n",
      "(10, 2000) (10, 2000) (10, 2000)\n",
      "[0.30860618 0.28570713 0.36505569 0.4016741  3.30340086 0.37204976\n",
      " 0.25139538 0.         0.         0.         0.         0.\n",
      " 0.         0.         0.         0.         0.         0.\n",
      " 0.         0.         0.         0.         0.         0.        ]\n",
      "Label model accuracy of tensor lm pse: 86%\n",
      "[[0.636, 0.8615, 0.596]]\n",
      "Majority vote accuracy: 63%\n",
      "(24, 24)\n",
      "(24, 2000) (24, 2000) (24, 2000)\n",
      "(3, 24, 24) (24, 24)\n",
      "Label model accuracy of tensor lm 1-hot: 58%\n",
      "pos shape (24, 6)\n",
      "neg shape (24, 10)\n",
      "(6, 2000) (6, 2000) (6, 2000)\n",
      "(3, 2000, 10)\n",
      "(10, 2000) (10, 2000) (10, 2000)\n",
      "[0.34013877 0.36957142 0.40697393 0.57325833 1.14305221 0.40558923\n",
      " 0.         0.         0.         0.         0.         0.\n",
      " 0.         0.         0.         0.         0.         0.\n",
      " 0.         0.         0.         0.         0.         0.        ]\n",
      "Label model accuracy of tensor lm pse: 86%\n",
      "[[0.636, 0.8615, 0.596], [0.6335, 0.86, 0.5885]]\n"
     ]
    }
   ],
   "source": [
    "n = 2000\n",
    "theta = np.array([4,0.6,0.5])\n",
    "out = []\n",
    "for t in range(2):\n",
    "    o1,o2,o3 = run(n,theta)\n",
    "    out.append([o1,o2,o3])\n",
    "    print(out )"
   ]
  },
  {
   "cell_type": "code",
   "execution_count": null,
   "metadata": {},
   "outputs": [],
   "source": []
  }
 ],
 "metadata": {
  "kernelspec": {
   "display_name": "act-learn",
   "language": "python",
   "name": "python3"
  },
  "language_info": {
   "codemirror_mode": {
    "name": "ipython",
    "version": 3
   },
   "file_extension": ".py",
   "mimetype": "text/x-python",
   "name": "python",
   "nbconvert_exporter": "python",
   "pygments_lexer": "ipython3",
   "version": "3.10.4"
  },
  "orig_nbformat": 4
 },
 "nbformat": 4,
 "nbformat_minor": 2
}
